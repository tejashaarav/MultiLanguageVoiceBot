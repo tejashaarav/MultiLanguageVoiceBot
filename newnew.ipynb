{
 "cells": [
  {
   "cell_type": "code",
   "execution_count": 11,
   "metadata": {},
   "outputs": [
    {
     "name": "stderr",
     "output_type": "stream",
     "text": [
      "c:\\Users\\Tejashaarav S\\miniconda3\\envs\\amex\\lib\\site-packages\\tqdm\\auto.py:22: TqdmWarning: IProgress not found. Please update jupyter and ipywidgets. See https://ipywidgets.readthedocs.io/en/stable/user_install.html\n",
      "  from .autonotebook import tqdm as notebook_tqdm\n"
     ]
    }
   ],
   "source": [
    "import numpy as np\n",
    "import pandas as pd\n",
    "from gtts import gTTS\n",
    "from mtranslate import translate\n",
    "import pyaudio\n",
    "# from pygame import audio\n",
    "from transformers import BlenderbotSmallForConditionalGeneration\n",
    "from transformers import BlenderbotSmallTokenizer                         "
   ]
  },
  {
   "cell_type": "code",
   "execution_count": 9,
   "metadata": {},
   "outputs": [
    {
     "name": "stdout",
     "output_type": "stream",
     "text": [
      "Collecting pygame\n",
      "  Using cached pygame-2.1.2-cp39-cp39-win_amd64.whl (8.4 MB)\n",
      "Installing collected packages: pygame\n",
      "Successfully installed pygame-2.1.2\n"
     ]
    },
    {
     "name": "stderr",
     "output_type": "stream",
     "text": [
      "WARNING: Ignoring invalid distribution -illow (c:\\users\\tejashaarav s\\miniconda3\\envs\\amex\\lib\\site-packages)\n",
      "WARNING: Ignoring invalid distribution -illow (c:\\users\\tejashaarav s\\miniconda3\\envs\\amex\\lib\\site-packages)\n",
      "WARNING: Ignoring invalid distribution -illow (c:\\users\\tejashaarav s\\miniconda3\\envs\\amex\\lib\\site-packages)\n",
      "WARNING: Ignoring invalid distribution -illow (c:\\users\\tejashaarav s\\miniconda3\\envs\\amex\\lib\\site-packages)\n",
      "WARNING: Ignoring invalid distribution -illow (c:\\users\\tejashaarav s\\miniconda3\\envs\\amex\\lib\\site-packages)\n",
      "WARNING: Ignoring invalid distribution -illow (c:\\users\\tejashaarav s\\miniconda3\\envs\\amex\\lib\\site-packages)\n",
      "WARNING: Ignoring invalid distribution -illow (c:\\users\\tejashaarav s\\miniconda3\\envs\\amex\\lib\\site-packages)\n"
     ]
    }
   ],
   "source": [
    "!pip install pygame"
   ]
  },
  {
   "cell_type": "code",
   "execution_count": 20,
   "metadata": {},
   "outputs": [
    {
     "ename": "ModuleNotFoundError",
     "evalue": "No module named 'speech_recognition'",
     "output_type": "error",
     "traceback": [
      "\u001b[1;31m---------------------------------------------------------------------------\u001b[0m",
      "\u001b[1;31mModuleNotFoundError\u001b[0m                       Traceback (most recent call last)",
      "\u001b[1;32mc:\\Users\\Tejashaarav S\\OneDrive\\Desktop\\MultiLanguageVoiceBot\\newnew.ipynb Cell 3\u001b[0m in \u001b[0;36m<cell line: 1>\u001b[1;34m()\u001b[0m\n\u001b[1;32m----> <a href='vscode-notebook-cell:/c%3A/Users/Tejashaarav%20S/OneDrive/Desktop/MultiLanguageVoiceBot/newnew.ipynb#W2sZmlsZQ%3D%3D?line=0'>1</a>\u001b[0m \u001b[39mfrom\u001b[39;00m \u001b[39mspeech_recognition\u001b[39;00m \u001b[39mimport\u001b[39;00m AudioFile, Recognizer\n",
      "\u001b[1;31mModuleNotFoundError\u001b[0m: No module named 'speech_recognition'"
     ]
    }
   ],
   "source": [
    "from speech_recognition import AudioFile, Recognizer"
   ]
  },
  {
   "cell_type": "code",
   "execution_count": 21,
   "metadata": {},
   "outputs": [
    {
     "name": "stdout",
     "output_type": "stream",
     "text": [
      "Collecting SpeechRecognition\n",
      "  Using cached SpeechRecognition-3.9.0-py2.py3-none-any.whl (32.8 MB)\n",
      "Requirement already satisfied: requests>=2.26.0 in c:\\users\\tejashaarav s\\miniconda3\\envs\\amex\\lib\\site-packages (from SpeechRecognition) (2.28.1)\n",
      "Requirement already satisfied: charset-normalizer<3,>=2 in c:\\users\\tejashaarav s\\miniconda3\\envs\\amex\\lib\\site-packages (from requests>=2.26.0->SpeechRecognition) (2.1.1)\n",
      "Requirement already satisfied: idna<4,>=2.5 in c:\\users\\tejashaarav s\\miniconda3\\envs\\amex\\lib\\site-packages (from requests>=2.26.0->SpeechRecognition) (2.10)\n",
      "Requirement already satisfied: urllib3<1.27,>=1.21.1 in c:\\users\\tejashaarav s\\miniconda3\\envs\\amex\\lib\\site-packages (from requests>=2.26.0->SpeechRecognition) (1.26.6)\n",
      "Requirement already satisfied: certifi>=2017.4.17 in c:\\users\\tejashaarav s\\miniconda3\\envs\\amex\\lib\\site-packages (from requests>=2.26.0->SpeechRecognition) (2021.5.30)\n",
      "Installing collected packages: SpeechRecognition\n",
      "Successfully installed SpeechRecognition-3.9.0\n",
      "Note: you may need to restart the kernel to use updated packages.\n"
     ]
    },
    {
     "name": "stderr",
     "output_type": "stream",
     "text": [
      "WARNING: Ignoring invalid distribution -illow (c:\\users\\tejashaarav s\\miniconda3\\envs\\amex\\lib\\site-packages)\n",
      "WARNING: Ignoring invalid distribution -illow (c:\\users\\tejashaarav s\\miniconda3\\envs\\amex\\lib\\site-packages)\n",
      "WARNING: Ignoring invalid distribution -illow (c:\\users\\tejashaarav s\\miniconda3\\envs\\amex\\lib\\site-packages)\n",
      "WARNING: Ignoring invalid distribution -illow (c:\\users\\tejashaarav s\\miniconda3\\envs\\amex\\lib\\site-packages)\n",
      "WARNING: Ignoring invalid distribution -illow (c:\\users\\tejashaarav s\\miniconda3\\envs\\amex\\lib\\site-packages)\n",
      "WARNING: Ignoring invalid distribution -illow (c:\\users\\tejashaarav s\\miniconda3\\envs\\amex\\lib\\site-packages)\n",
      "WARNING: Ignoring invalid distribution -illow (c:\\users\\tejashaarav s\\miniconda3\\envs\\amex\\lib\\site-packages)\n"
     ]
    }
   ],
   "source": [
    "pip install SpeechRecognition"
   ]
  },
  {
   "cell_type": "code",
   "execution_count": 16,
   "metadata": {},
   "outputs": [
    {
     "name": "stderr",
     "output_type": "stream",
     "text": [
      "WARNING: Ignoring invalid distribution -illow (c:\\users\\tejashaarav s\\miniconda3\\envs\\amex\\lib\\site-packages)\n",
      "WARNING: Ignoring invalid distribution -illow (c:\\users\\tejashaarav s\\miniconda3\\envs\\amex\\lib\\site-packages)\n",
      "ERROR: Could not find a version that satisfies the requirement speech_recognition (from versions: none)\n",
      "ERROR: No matching distribution found for speech_recognition\n",
      "WARNING: Ignoring invalid distribution -illow (c:\\users\\tejashaarav s\\miniconda3\\envs\\amex\\lib\\site-packages)\n",
      "WARNING: Ignoring invalid distribution -illow (c:\\users\\tejashaarav s\\miniconda3\\envs\\amex\\lib\\site-packages)\n",
      "WARNING: Ignoring invalid distribution -illow (c:\\users\\tejashaarav s\\miniconda3\\envs\\amex\\lib\\site-packages)\n"
     ]
    }
   ],
   "source": [
    "!pip install speech_recognition"
   ]
  },
  {
   "cell_type": "code",
   "execution_count": 14,
   "metadata": {},
   "outputs": [
    {
     "name": "stdout",
     "output_type": "stream",
     "text": [
      "Looking in links: https://download.pytorch.org/whl/torch_stable.html\n",
      "Requirement already satisfied: transformers==4.25.1 in c:\\users\\tejashaarav s\\miniconda3\\envs\\amex\\lib\\site-packages (from -r requirements.txt (line 1)) (4.25.1)\n",
      "Collecting torch==1.13.1+cpu\n",
      "  Using cached https://download.pytorch.org/whl/cpu/torch-1.13.1%2Bcpu-cp39-cp39-win_amd64.whl (164.1 MB)\n",
      "Collecting gradio==3.14.0\n",
      "  Using cached gradio-3.14.0-py3-none-any.whl (13.8 MB)\n",
      "Collecting SpeechRecognition==3.9.0\n",
      "  Using cached SpeechRecognition-3.9.0-py2.py3-none-any.whl (32.8 MB)\n",
      "Requirement already satisfied: mtranslate==1.8 in c:\\users\\tejashaarav s\\miniconda3\\envs\\amex\\lib\\site-packages (from -r requirements.txt (line 6)) (1.8)\n",
      "Requirement already satisfied: gTTS==2.3.0 in c:\\users\\tejashaarav s\\miniconda3\\envs\\amex\\lib\\site-packages (from -r requirements.txt (line 7)) (2.3.0)\n",
      "Requirement already satisfied: regex!=2019.12.17 in c:\\users\\tejashaarav s\\miniconda3\\envs\\amex\\lib\\site-packages (from transformers==4.25.1->-r requirements.txt (line 1)) (2022.9.13)\n",
      "Requirement already satisfied: numpy>=1.17 in c:\\users\\tejashaarav s\\miniconda3\\envs\\amex\\lib\\site-packages (from transformers==4.25.1->-r requirements.txt (line 1)) (1.21.6)\n",
      "Requirement already satisfied: requests in c:\\users\\tejashaarav s\\miniconda3\\envs\\amex\\lib\\site-packages (from transformers==4.25.1->-r requirements.txt (line 1)) (2.28.1)\n",
      "Requirement already satisfied: packaging>=20.0 in c:\\users\\tejashaarav s\\miniconda3\\envs\\amex\\lib\\site-packages (from transformers==4.25.1->-r requirements.txt (line 1)) (21.3)\n",
      "Requirement already satisfied: tqdm>=4.27 in c:\\users\\tejashaarav s\\miniconda3\\envs\\amex\\lib\\site-packages (from transformers==4.25.1->-r requirements.txt (line 1)) (4.64.1)\n",
      "Requirement already satisfied: tokenizers!=0.11.3,<0.14,>=0.11.1 in c:\\users\\tejashaarav s\\miniconda3\\envs\\amex\\lib\\site-packages (from transformers==4.25.1->-r requirements.txt (line 1)) (0.12.1)\n",
      "Requirement already satisfied: huggingface-hub<1.0,>=0.10.0 in c:\\users\\tejashaarav s\\miniconda3\\envs\\amex\\lib\\site-packages (from transformers==4.25.1->-r requirements.txt (line 1)) (0.11.1)\n",
      "Requirement already satisfied: pyyaml>=5.1 in c:\\users\\tejashaarav s\\miniconda3\\envs\\amex\\lib\\site-packages (from transformers==4.25.1->-r requirements.txt (line 1)) (6.0)\n",
      "Requirement already satisfied: filelock in c:\\users\\tejashaarav s\\miniconda3\\envs\\amex\\lib\\site-packages (from transformers==4.25.1->-r requirements.txt (line 1)) (3.9.0)\n",
      "Requirement already satisfied: typing-extensions in c:\\users\\tejashaarav s\\miniconda3\\envs\\amex\\lib\\site-packages (from torch==1.13.1+cpu->-r requirements.txt (line 3)) (4.4.0)\n",
      "Collecting fsspec\n",
      "  Using cached fsspec-2022.11.0-py3-none-any.whl (139 kB)\n",
      "Requirement already satisfied: markupsafe in c:\\users\\tejashaarav s\\miniconda3\\envs\\amex\\lib\\site-packages (from gradio==3.14.0->-r requirements.txt (line 4)) (2.1.1)\n",
      "Requirement already satisfied: pydantic in c:\\users\\tejashaarav s\\miniconda3\\envs\\amex\\lib\\site-packages (from gradio==3.14.0->-r requirements.txt (line 4)) (1.9.2)\n",
      "Collecting websockets>=10.0\n",
      "  Using cached websockets-10.4-cp39-cp39-win_amd64.whl (101 kB)\n",
      "Collecting altair\n",
      "  Using cached altair-4.2.0-py3-none-any.whl (812 kB)\n",
      "Collecting uvicorn\n",
      "  Using cached uvicorn-0.20.0-py3-none-any.whl (56 kB)\n",
      "Requirement already satisfied: pillow in c:\\users\\tejashaarav s\\miniconda3\\envs\\amex\\lib\\site-packages (from gradio==3.14.0->-r requirements.txt (line 4)) (9.0.1)\n",
      "Collecting pycryptodome\n",
      "  Using cached pycryptodome-3.16.0-cp35-abi3-win_amd64.whl (1.7 MB)\n",
      "Requirement already satisfied: pandas in c:\\users\\tejashaarav s\\miniconda3\\envs\\amex\\lib\\site-packages (from gradio==3.14.0->-r requirements.txt (line 4)) (1.5.0)\n",
      "Collecting fastapi\n",
      "  Using cached fastapi-0.88.0-py3-none-any.whl (55 kB)\n",
      "Collecting python-multipart\n",
      "  Using cached python_multipart-0.0.5-py3-none-any.whl\n",
      "Collecting pydub\n",
      "  Using cached pydub-0.25.1-py2.py3-none-any.whl (32 kB)\n",
      "Requirement already satisfied: matplotlib in c:\\users\\tejashaarav s\\miniconda3\\envs\\amex\\lib\\site-packages (from gradio==3.14.0->-r requirements.txt (line 4)) (3.6.1)\n",
      "Requirement already satisfied: jinja2 in c:\\users\\tejashaarav s\\miniconda3\\envs\\amex\\lib\\site-packages (from gradio==3.14.0->-r requirements.txt (line 4)) (3.1.2)\n",
      "Collecting orjson\n",
      "  Using cached orjson-3.8.3-cp39-none-win_amd64.whl (200 kB)\n",
      "Collecting aiohttp\n",
      "  Using cached aiohttp-3.8.3-cp39-cp39-win_amd64.whl (323 kB)\n",
      "Collecting markdown-it-py[linkify,plugins]\n",
      "  Using cached markdown_it_py-2.1.0-py3-none-any.whl (84 kB)\n",
      "Collecting ffmpy\n",
      "  Using cached ffmpy-0.3.0-py3-none-any.whl\n",
      "Collecting httpx\n",
      "  Downloading httpx-0.23.3-py3-none-any.whl (71 kB)\n",
      "     ---------------------------------------- 71.5/71.5 kB ? eta 0:00:00\n",
      "Requirement already satisfied: six~=1.16.0 in c:\\users\\tejashaarav s\\miniconda3\\envs\\amex\\lib\\site-packages (from gTTS==2.3.0->-r requirements.txt (line 7)) (1.16.0)\n",
      "Requirement already satisfied: click~=8.1.3 in c:\\users\\tejashaarav s\\miniconda3\\envs\\amex\\lib\\site-packages (from gTTS==2.3.0->-r requirements.txt (line 7)) (8.1.3)\n",
      "Requirement already satisfied: colorama in c:\\users\\tejashaarav s\\miniconda3\\envs\\amex\\lib\\site-packages (from click~=8.1.3->gTTS==2.3.0->-r requirements.txt (line 7)) (0.4.5)\n",
      "Requirement already satisfied: pyparsing!=3.0.5,>=2.0.2 in c:\\users\\tejashaarav s\\miniconda3\\envs\\amex\\lib\\site-packages (from packaging>=20.0->transformers==4.25.1->-r requirements.txt (line 1)) (2.4.7)\n",
      "Requirement already satisfied: charset-normalizer<3,>=2 in c:\\users\\tejashaarav s\\miniconda3\\envs\\amex\\lib\\site-packages (from requests->transformers==4.25.1->-r requirements.txt (line 1)) (2.1.1)\n",
      "Requirement already satisfied: urllib3<1.27,>=1.21.1 in c:\\users\\tejashaarav s\\miniconda3\\envs\\amex\\lib\\site-packages (from requests->transformers==4.25.1->-r requirements.txt (line 1)) (1.26.6)\n",
      "Requirement already satisfied: certifi>=2017.4.17 in c:\\users\\tejashaarav s\\miniconda3\\envs\\amex\\lib\\site-packages (from requests->transformers==4.25.1->-r requirements.txt (line 1)) (2021.5.30)\n",
      "Requirement already satisfied: idna<4,>=2.5 in c:\\users\\tejashaarav s\\miniconda3\\envs\\amex\\lib\\site-packages (from requests->transformers==4.25.1->-r requirements.txt (line 1)) (2.10)\n",
      "Requirement already satisfied: async-timeout<5.0,>=4.0.0a3 in c:\\users\\tejashaarav s\\miniconda3\\envs\\amex\\lib\\site-packages (from aiohttp->gradio==3.14.0->-r requirements.txt (line 4)) (4.0.2)\n",
      "Collecting aiosignal>=1.1.2\n",
      "  Using cached aiosignal-1.3.1-py3-none-any.whl (7.6 kB)\n",
      "Requirement already satisfied: attrs>=17.3.0 in c:\\users\\tejashaarav s\\miniconda3\\envs\\amex\\lib\\site-packages (from aiohttp->gradio==3.14.0->-r requirements.txt (line 4)) (22.1.0)\n",
      "Collecting yarl<2.0,>=1.0\n",
      "  Using cached yarl-1.8.2-cp39-cp39-win_amd64.whl (56 kB)\n",
      "Collecting multidict<7.0,>=4.5\n",
      "  Downloading multidict-6.0.4-cp39-cp39-win_amd64.whl (28 kB)\n",
      "Collecting frozenlist>=1.1.1\n",
      "  Using cached frozenlist-1.3.3-cp39-cp39-win_amd64.whl (34 kB)\n",
      "Requirement already satisfied: entrypoints in c:\\users\\tejashaarav s\\miniconda3\\envs\\amex\\lib\\site-packages (from altair->gradio==3.14.0->-r requirements.txt (line 4)) (0.4)\n",
      "Requirement already satisfied: toolz in c:\\users\\tejashaarav s\\miniconda3\\envs\\amex\\lib\\site-packages (from altair->gradio==3.14.0->-r requirements.txt (line 4)) (0.12.0)\n",
      "Requirement already satisfied: jsonschema>=3.0 in c:\\users\\tejashaarav s\\miniconda3\\envs\\amex\\lib\\site-packages (from altair->gradio==3.14.0->-r requirements.txt (line 4)) (4.16.0)\n",
      "Requirement already satisfied: pytz>=2020.1 in c:\\users\\tejashaarav s\\miniconda3\\envs\\amex\\lib\\site-packages (from pandas->gradio==3.14.0->-r requirements.txt (line 4)) (2022.4)\n",
      "Requirement already satisfied: python-dateutil>=2.8.1 in c:\\users\\tejashaarav s\\miniconda3\\envs\\amex\\lib\\site-packages (from pandas->gradio==3.14.0->-r requirements.txt (line 4)) (2.8.2)\n",
      "Collecting starlette==0.22.0\n",
      "  Using cached starlette-0.22.0-py3-none-any.whl (64 kB)\n",
      "Collecting anyio<5,>=3.4.0\n",
      "  Using cached anyio-3.6.2-py3-none-any.whl (80 kB)\n",
      "Collecting httpcore<0.17.0,>=0.15.0\n",
      "  Using cached httpcore-0.16.3-py3-none-any.whl (69 kB)\n",
      "Collecting rfc3986[idna2008]<2,>=1.3\n",
      "  Using cached rfc3986-1.5.0-py2.py3-none-any.whl (31 kB)\n",
      "Requirement already satisfied: sniffio in c:\\users\\tejashaarav s\\miniconda3\\envs\\amex\\lib\\site-packages (from httpx->gradio==3.14.0->-r requirements.txt (line 4)) (1.3.0)\n",
      "Collecting mdurl~=0.1\n",
      "  Using cached mdurl-0.1.2-py3-none-any.whl (10.0 kB)\n",
      "Collecting mdit-py-plugins\n",
      "  Using cached mdit_py_plugins-0.3.3-py3-none-any.whl (50 kB)\n",
      "Collecting linkify-it-py~=1.0\n",
      "  Using cached linkify_it_py-1.0.3-py3-none-any.whl (19 kB)\n",
      "Requirement already satisfied: contourpy>=1.0.1 in c:\\users\\tejashaarav s\\miniconda3\\envs\\amex\\lib\\site-packages (from matplotlib->gradio==3.14.0->-r requirements.txt (line 4)) (1.0.5)\n",
      "Requirement already satisfied: fonttools>=4.22.0 in c:\\users\\tejashaarav s\\miniconda3\\envs\\amex\\lib\\site-packages (from matplotlib->gradio==3.14.0->-r requirements.txt (line 4)) (4.37.4)\n",
      "Requirement already satisfied: cycler>=0.10 in c:\\users\\tejashaarav s\\miniconda3\\envs\\amex\\lib\\site-packages (from matplotlib->gradio==3.14.0->-r requirements.txt (line 4)) (0.10.0)\n",
      "Requirement already satisfied: kiwisolver>=1.0.1 in c:\\users\\tejashaarav s\\miniconda3\\envs\\amex\\lib\\site-packages (from matplotlib->gradio==3.14.0->-r requirements.txt (line 4)) (1.4.4)\n",
      "Requirement already satisfied: h11>=0.8 in c:\\users\\tejashaarav s\\miniconda3\\envs\\amex\\lib\\site-packages (from uvicorn->gradio==3.14.0->-r requirements.txt (line 4)) (0.14.0)\n",
      "Requirement already satisfied: pyrsistent!=0.17.0,!=0.17.1,!=0.17.2,>=0.14.0 in c:\\users\\tejashaarav s\\miniconda3\\envs\\amex\\lib\\site-packages (from jsonschema>=3.0->altair->gradio==3.14.0->-r requirements.txt (line 4)) (0.18.1)\n",
      "Collecting uc-micro-py\n",
      "  Using cached uc_micro_py-1.0.1-py3-none-any.whl (6.2 kB)\n",
      "Installing collected packages: rfc3986, pydub, ffmpy, websockets, uc-micro-py, torch, python-multipart, pycryptodome, orjson, multidict, mdurl, fsspec, frozenlist, anyio, yarl, uvicorn, starlette, SpeechRecognition, markdown-it-py, linkify-it-py, httpcore, aiosignal, mdit-py-plugins, httpx, fastapi, altair, aiohttp, gradio\n",
      "  Attempting uninstall: torch\n",
      "    Found existing installation: torch 1.12.1\n",
      "    Uninstalling torch-1.12.1:\n",
      "      Successfully uninstalled torch-1.12.1\n"
     ]
    },
    {
     "name": "stderr",
     "output_type": "stream",
     "text": [
      "WARNING: Ignoring invalid distribution -illow (c:\\users\\tejashaarav s\\miniconda3\\envs\\amex\\lib\\site-packages)\n",
      "WARNING: Ignoring invalid distribution -illow (c:\\users\\tejashaarav s\\miniconda3\\envs\\amex\\lib\\site-packages)\n",
      "WARNING: Ignoring invalid distribution -illow (c:\\users\\tejashaarav s\\miniconda3\\envs\\amex\\lib\\site-packages)\n",
      "    WARNING: Ignoring invalid distribution -illow (c:\\users\\tejashaarav s\\miniconda3\\envs\\amex\\lib\\site-packages)\n",
      "ERROR: Could not install packages due to an OSError: [WinError 5] Access is denied: 'C:\\\\Users\\\\Tejashaarav S\\\\miniconda3\\\\envs\\\\amex\\\\Lib\\\\site-packages\\\\~orch\\\\lib\\\\asmjit.dll'\n",
      "Consider using the `--user` option or check the permissions.\n",
      "\n",
      "WARNING: Ignoring invalid distribution -illow (c:\\users\\tejashaarav s\\miniconda3\\envs\\amex\\lib\\site-packages)\n",
      "WARNING: Ignoring invalid distribution -illow (c:\\users\\tejashaarav s\\miniconda3\\envs\\amex\\lib\\site-packages)\n",
      "WARNING: Ignoring invalid distribution -illow (c:\\users\\tejashaarav s\\miniconda3\\envs\\amex\\lib\\site-packages)\n"
     ]
    }
   ],
   "source": [
    "!pip install -r requirements.txt"
   ]
  },
  {
   "cell_type": "code",
   "execution_count": 18,
   "metadata": {},
   "outputs": [
    {
     "ename": "SyntaxError",
     "evalue": "invalid syntax (1827435722.py, line 1)",
     "output_type": "error",
     "traceback": [
      "\u001b[1;36m  Input \u001b[1;32mIn [18]\u001b[1;36m\u001b[0m\n\u001b[1;33m    python -m speech_recognition\u001b[0m\n\u001b[1;37m              ^\u001b[0m\n\u001b[1;31mSyntaxError\u001b[0m\u001b[1;31m:\u001b[0m invalid syntax\n"
     ]
    }
   ],
   "source": [
    "python -m speech_recognition"
   ]
  },
  {
   "cell_type": "code",
   "execution_count": 22,
   "metadata": {},
   "outputs": [],
   "source": [
    "import speech_recognition as sr\n"
   ]
  },
  {
   "cell_type": "code",
   "execution_count": null,
   "metadata": {},
   "outputs": [],
   "source": []
  }
 ],
 "metadata": {
  "kernelspec": {
   "display_name": "amex",
   "language": "python",
   "name": "python3"
  },
  "language_info": {
   "codemirror_mode": {
    "name": "ipython",
    "version": 3
   },
   "file_extension": ".py",
   "mimetype": "text/x-python",
   "name": "python",
   "nbconvert_exporter": "python",
   "pygments_lexer": "ipython3",
   "version": "3.9.13"
  },
  "orig_nbformat": 4,
  "vscode": {
   "interpreter": {
    "hash": "63477bd99dd8c283db5d16352bfcecfa0496b6bede6d0fbcf04466e65074e9b2"
   }
  }
 },
 "nbformat": 4,
 "nbformat_minor": 2
}
